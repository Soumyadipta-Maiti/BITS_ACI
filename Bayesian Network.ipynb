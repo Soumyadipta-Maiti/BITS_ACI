{
 "cells": [
  {
   "cell_type": "code",
   "execution_count": null,
   "id": "8d497291",
   "metadata": {},
   "outputs": [],
   "source": [
    "import numpy as np\n",
    "import pandas as pd"
   ]
  },
  {
   "cell_type": "code",
   "execution_count": null,
   "id": "ed75e49d",
   "metadata": {},
   "outputs": [],
   "source": [
    "class BayesianNetwork:\n",
    "    def __init__(self, structure):\n",
    "        self.structure = structure\n",
    "        self.nodes = {}\n",
    "        self.parents = {}\n",
    "        self.values_to_indices = {}\n",
    "\n",
    "    def add_cpd(self, node, cpd, parents=None, values=None):\n",
    "        self.nodes[node] = cpd\n",
    "        if values:\n",
    "            self.values_to_indices[node] = {value: i for i, value in enumerate(values)}\n",
    "        else:\n",
    "            self.values_to_indices[node] = {i: i for i in range(cpd.shape[0])}\n",
    "\n",
    "        if parents:\n",
    "            for parent in parents:\n",
    "                if parent not in self.parents:\n",
    "                    self.parents[parent] = []\n",
    "                self.parents[parent].append(node)\n",
    "\n",
    "    def prior_sampling(self, n_samples):\n",
    "        samples = []\n",
    "        for _ in range(n_samples):\n",
    "            row = {}\n",
    "            for node in self.nodes_order:\n",
    "                if node in self.parents:\n",
    "                    parent_values = tuple(int(row[parent]) for parent in self.parents[node])\n",
    "                    parent_indices = tuple(self.nodes[parent]['value_to_index'][row[parent]] for parent in self.parents[node])\n",
    "                    p_values = np.asarray(self.nodes[node]['cpd'][parent_indices]).flatten()\n",
    "                    p_values /= p_values.sum()\n",
    "                else:\n",
    "                    p_values = np.asarray(self.nodes[node]['cpd']).flatten()\n",
    "                    p_values /= p_values.sum()\n",
    "\n",
    "                value = np.random.choice(self.nodes[node]['values'], p=p_values)\n",
    "                row[node] = value\n",
    "            samples.append(row)\n",
    "        return samples\n",
    "\n",
    "\n",
    "    def variable_elimination(self, target, evidence=None):\n",
    "        factors = self.nodes.copy()\n",
    "\n",
    "        # Apply evidence\n",
    "        if evidence:\n",
    "            for node, value in evidence.items():\n",
    "                factors[node] = np.zeros_like(factors[node])\n",
    "                factors[node][value] = 1\n",
    "\n",
    "        # Eliminate non-target variables\n",
    "        while len(factors) > 1:\n",
    "            elimination_var = next(iter(set(factors.keys()) - {target}))\n",
    "            elimination_factors = []\n",
    "\n",
    "            for parent, children in self.parents.items():\n",
    "                if elimination_var in children:\n",
    "                    elimination_factors.append((parent, elimination_var))\n",
    "\n",
    "            if elimination_factors:\n",
    "                parent, child = elimination_factors.pop()\n",
    "                new_cpd = np.outer(factors[parent], factors[child]).reshape((*factors[parent].shape, *factors[child].shape))\n",
    "                new_cpd = new_cpd.sum(axis=1)\n",
    "\n",
    "                for grandparent, _ in elimination_factors:\n",
    "                    new_cpd = new_cpd[np.newaxis, ...].repeat(factors[grandparent].shape[0], axis=0)\n",
    "                    new_cpd *= factors[grandparent][:, np.newaxis, ...]\n",
    "                    new_cpd = new_cpd.sum(axis=1)\n",
    "\n",
    "                factors[parent] = new_cpd\n",
    "                self.parents[parent].remove(child)\n",
    "\n",
    "            del factors[elimination_var]\n",
    "\n",
    "        return factors[target]\n",
    "\n",
    "    def is_d_separated(self, node1, node2, evidence=None):\n",
    "        if not evidence:\n",
    "            evidence = set()\n",
    "\n",
    "        visited = set()\n",
    "        stack = [node1]\n",
    "\n",
    "        while stack:\n",
    "            current = stack.pop()\n",
    "            visited.add(current)\n",
    "\n",
    "            if current == node2:\n",
    "                return False\n",
    "\n",
    "            for parent in (self.parents.get(current, []) + [k for k, v in self.parents.items() if current in v]):\n",
    "                if parent not in visited and parent not in evidence:\n",
    "                    stack.append(parent)\n",
    "\n",
    "        return True"
   ]
  },
  {
   "cell_type": "code",
   "execution_count": null,
   "id": "cf655ac2",
   "metadata": {},
   "outputs": [],
   "source": [
    "# Define the Bayesian network structure\n",
    "bn = BayesianNetwork([('Cold', 'Cough'), ('Flu', 'Cough')])\n",
    "\n",
    "# Define the probability distributions (CPDs)\n",
    "cpd_cold = np.array([0.8, 0.2])\n",
    "cpd_flu = np.array([0.95, 0.05])\n",
    "cpd_cough = np.array([[[0.9, 0.1], [0.6, 0.4]], [[0.7, 0.3], [0.1, 0.9]]])\n",
    "\n",
    "# Add the probability distributions to the network\n",
    "bn.add_cpd('Cold', cpd_cold, values=[0, 1])\n",
    "bn.add_cpd('Flu', cpd_flu, values=[0, 1])\n",
    "bn.add_cpd('Cough', cpd_cough, parents=['Cold', 'Flu'], values=[0, 1])"
   ]
  },
  {
   "cell_type": "markdown",
   "id": "fef8bb7a",
   "metadata": {},
   "source": [
    "### Variable Elimination\n"
   ]
  },
  {
   "cell_type": "code",
   "execution_count": 22,
   "id": "3452662c",
   "metadata": {},
   "outputs": [
    {
     "name": "stdout",
     "output_type": "stream",
     "text": [
      "P(Cough): [[[0.9 0.1]\n",
      "  [0.6 0.4]]\n",
      "\n",
      " [[0.7 0.3]\n",
      "  [0.1 0.9]]]\n",
      "P(Cough | Cold): [[[0.9 0.1]\n",
      "  [0.6 0.4]]\n",
      "\n",
      " [[0.7 0.3]\n",
      "  [0.1 0.9]]]\n",
      "P(Cough | Flu): [[[0.9 0.1]\n",
      "  [0.6 0.4]]\n",
      "\n",
      " [[0.7 0.3]\n",
      "  [0.1 0.9]]]\n"
     ]
    }
   ],
   "source": [
    "# Perform exact inference using Variable Elimination\n",
    "prob_cough = bn.variable_elimination('Cough')\n",
    "print(\"P(Cough):\", prob_cough)\n",
    "\n",
    "prob_cough_given_cold = bn.variable_elimination('Cough', evidence={'Cold': 1})\n",
    "print(\"P(Cough | Cold):\", prob_cough_given_cold)\n",
    "\n",
    "prob_cough_given_flu = bn.variable_elimination('Cough', evidence={'Flu': 1})\n",
    "print(\"P(Cough | Flu):\", prob_cough_given_flu)"
   ]
  },
  {
   "cell_type": "markdown",
   "id": "a3274830",
   "metadata": {},
   "source": [
    "### Prior Sampling"
   ]
  },
  {
   "cell_type": "code",
   "execution_count": null,
   "id": "d2cef74f",
   "metadata": {},
   "outputs": [],
   "source": [
    "# Perform approximate inference using Prior Sampling\n",
    "samples = bn.prior_sampling(n_samples=10000)\n",
    "\n",
    "# Calculate the probability of having a cough\n",
    "prob_cough_sampled = samples['Cough'].mean()\n",
    "print(\"P(Cough) (sampled) ≈\", prob_cough_sampled)\n",
    "\n",
    "# Calculate the probability of having a cough given a cold\n",
    "prob_cough_given_cold_sampled = samples[samples['Cold'] == 1]['Cough'].mean()\n",
    "print(\"P(Cough | Cold) (sampled) ≈\", prob_cough_given_cold_sampled)\n",
    "\n",
    "# Calculate the probability of having a cough given the flu\n",
    "prob_cough_given_flu_sampled = samples[samples['Flu'] == 1]['Cough'].mean()\n",
    "print(\"P(Cough | Flu) (sampled) ≈\", prob_cough_given_flu_sampled)"
   ]
  },
  {
   "cell_type": "markdown",
   "id": "11e29300",
   "metadata": {},
   "source": [
    "### d-separation"
   ]
  },
  {
   "cell_type": "code",
   "execution_count": 24,
   "id": "93bd7def",
   "metadata": {},
   "outputs": [
    {
     "name": "stdout",
     "output_type": "stream",
     "text": [
      "Cold and Flu are d-separated (no evidence): False\n",
      "Cold and Flu are d-separated (Cough as evidence): True\n"
     ]
    }
   ],
   "source": [
    "# Check d-separation between Cold and Flu given no evidence\n",
    "print(\"Cold and Flu are d-separated (no evidence):\", bn.is_d_separated('Cold', 'Flu'))\n",
    "\n",
    "# Check d-separation between Cold and Flu given Cough\n",
    "print(\"Cold and Flu are d-separated (Cough as evidence):\", bn.is_d_separated('Cold', 'Flu', evidence={'Cough'}))"
   ]
  },
  {
   "cell_type": "code",
   "execution_count": null,
   "id": "80fdccb2",
   "metadata": {},
   "outputs": [],
   "source": []
  }
 ],
 "metadata": {
  "kernelspec": {
   "display_name": "Python 3 (ipykernel)",
   "language": "python",
   "name": "python3"
  },
  "language_info": {
   "codemirror_mode": {
    "name": "ipython",
    "version": 3
   },
   "file_extension": ".py",
   "mimetype": "text/x-python",
   "name": "python",
   "nbconvert_exporter": "python",
   "pygments_lexer": "ipython3",
   "version": "3.7.16"
  }
 },
 "nbformat": 4,
 "nbformat_minor": 5
}
